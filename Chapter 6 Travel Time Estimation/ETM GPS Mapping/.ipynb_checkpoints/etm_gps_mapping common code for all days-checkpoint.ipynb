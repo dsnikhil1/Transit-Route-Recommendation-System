{
 "cells": [
  {
   "cell_type": "code",
   "execution_count": 23,
   "metadata": {},
   "outputs": [],
   "source": [
    "import numpy as np\n",
    "import pandas as pd\n",
    "import scipy as sp\n",
    "import matplotlib.pyplot as plt\n",
    "import glob\n",
    "import os"
   ]
  },
  {
   "cell_type": "code",
   "execution_count": 24,
   "metadata": {},
   "outputs": [],
   "source": [
    "path = 'C:/Users/DSNikhil/Downloads/Codes and Corresponding files/Nov 2016 Consolidated/ETM_2016_11_Nov/11_Nov/081116'"
   ]
  },
  {
   "cell_type": "code",
   "execution_count": 25,
   "metadata": {},
   "outputs": [],
   "source": [
    "allcsvfiles = glob.glob(os.path.join(path, '*.csv'))\n",
    "dataframes = []\n",
    "for file in allcsvfiles:\n",
    "    df = pd.read_csv(file)\n",
    "    dataframes.append(df)\n",
    "result = pd.concat(dataframes,ignore_index=True)\n",
    "df = result"
   ]
  },
  {
   "cell_type": "code",
   "execution_count": null,
   "metadata": {},
   "outputs": [],
   "source": [
    "Date = []\n",
    "Depo_name = []\n",
    "Schedule_name = []\n",
    "Fleet_ID = []\n",
    "Source = []\n",
    "Destination = []\n",
    "Trip_Start_Time = []\n",
    "Trip_End_Time = []\n",
    "First_Ticket_Time = []\n",
    "Last_Ticket_Time = []\n",
    "ETM_NO = []\n",
    "depos = np.array(df['Depot_Name'].unique())\n",
    "for depo in depos:\n",
    "    df_depo = df[df['Depot_Name']==depo]\n",
    "    schedules = np.array(df_depo['Schedule_Name'].unique())\n",
    "    for schedule in schedules:\n",
    "        df_depo_sch = df_depo[df_depo['Schedule_Name']==schedule] \n",
    "        trips = np.array(df_depo_sch['TripStartTime'].unique())\n",
    "        for trip in trips:\n",
    "            df_depo_sch_trip = df_depo_sch[df_depo_sch['TripStartTime']==trip]\n",
    "            df_depo_sch_trip = df_depo_sch_trip.reset_index(drop=True)\n",
    "            ETM_NO.append(df_depo_sch_trip['ETMNO'][0])\n",
    "            Trip_Start_Time.append(df_depo_sch_trip['TripStartTime'][0])\n",
    "            Trip_End_Time.append(df_depo_sch_trip['TripEndTime'][0])\n",
    "            Date.append(df_depo_sch_trip['TripStartDate'][0])\n",
    "            First_Ticket_Time.append(min(df_depo_sch_trip['TicketIssuedTime']))\n",
    "            Last_Ticket_Time.append(max(df_depo_sch_trip['TicketIssuedTime']))\n",
    "            Source.append(df_depo_sch_trip['Source'][0])\n",
    "            Destination.append(df_depo_sch_trip['Destination'][0])\n",
    "            Fleet_ID.append(df_depo_sch_trip['FLEETNO'][0])\n",
    "            Schedule_name.append(df_depo_sch_trip['Schedule_Name'][0])\n",
    "            Depo_name.append(df_depo_sch_trip['Depot_Name'][0])\n",
    "Date = np.array(Date)\n",
    "Depo_name = np.array(Depo_name)\n",
    "Schedule_name = np.array(Schedule_name)\n",
    "Fleet_ID = np.array(Fleet_ID)\n",
    "Source = np.array(Source)\n",
    "Destination = np.array(Destination)\n",
    "Trip_Start_Time = np.array(Trip_Start_Time)\n",
    "Trip_End_Time = np.array(Trip_End_Time)\n",
    "First_Ticket_Time = np.array(First_Ticket_Time)\n",
    "Last_Ticket_Time = np.array(Last_Ticket_Time)\n",
    "ETM_NO = np.array(ETM_NO)\n",
    "d = {'Date':Date, 'Depo_name':Depo_name, 'Schedule_name': Schedule_name, 'Fleet_ID':Fleet_ID, 'Source':Source,'Destination':Destination,\n",
    "    'Trip_Start_Time':Trip_Start_Time, 'Trip_End_Time':Trip_End_Time, 'First_Ticket_Time':First_Ticket_Time,\n",
    "    'Last_Ticket_Time':Last_Ticket_Time, 'ETM_NO':ETM_NO}\n",
    "final_df = pd.DataFrame(data=d)"
   ]
  },
  {
   "cell_type": "code",
   "execution_count": null,
   "metadata": {},
   "outputs": [],
   "source": [
    "final_df['Fleet_ID'].astype(str)\n",
    "final_df['Fleet_ID'] = final_df['Fleet_ID'].replace(\" \",\"\")\n",
    "df_mapping = pd.read_csv(\"C:/Users/DSNikhil/Downloads/Codes and Corresponding files/Nov 2016 Consolidated/KNP GLB ETM Mapping.csv\")\n",
    "df_mapping = df_mapping[df_mapping['FLEET ID'].notna()]\n",
    "df_mapping = df_mapping.reset_index(drop=True)\n",
    "df_mapping['FLEET ID'].astype(str)\n",
    "df_mapping['FLEET ID'] = df_mapping['FLEET ID'].str[2:]\n",
    "df_mapping_array = np.array(df_mapping['FLEET ID'])\n",
    "df_mapping_array_2 = []\n",
    "#for i in range(len(df_mapping)):\n",
    "    #df_mapping['FLEET ID'][i] = df_mapping['FLEET ID'][i].replace(\" \",\"\")\n",
    "for i in df_mapping_array:\n",
    "    necss = i.replace(\" \",\"\")\n",
    "    df_mapping_array_2.append(necss)\n",
    "df_mapping_array_2 = np.array(df_mapping_array_2)\n",
    "df_mapping = df_mapping.drop(['FLEET ID'], axis =1)\n",
    "df_mapping['FLEET ID'] = df_mapping_array_2\n",
    "Fleet_ID = np.array(df_mapping['FLEET ID'])\n",
    "Depo_name = np.array(df_mapping['DEPOT'])\n",
    "Route_number = np.array(df_mapping['ROUTE\\nNO.'])\n",
    "Device_number = np.array(df_mapping['DEVICE ID'])\n",
    "d = {'Fleet_ID':Fleet_ID, 'Depo_name': Depo_name, 'Route_number':Route_number, 'Route_number':Route_number, 'Device_number':Device_number}\n",
    "final_df_mapping = pd.DataFrame(data=d)"
   ]
  },
  {
   "cell_type": "code",
   "execution_count": null,
   "metadata": {},
   "outputs": [],
   "source": [
    "df_map = final_df_mapping[final_df_mapping['Depo_name'].notna()]\n",
    "df_map = df_map.reset_index(drop=True)"
   ]
  },
  {
   "cell_type": "code",
   "execution_count": null,
   "metadata": {},
   "outputs": [],
   "source": [
    "new_df = pd.merge(final_df, df_map,  how='left', left_on=['Fleet_ID','Depo_name'], right_on = ['Fleet_ID','Depo_name'])\n",
    "last_df = new_df[new_df['Device_number'].notna()]"
   ]
  },
  {
   "cell_type": "code",
   "execution_count": null,
   "metadata": {},
   "outputs": [],
   "source": [
    "#last_df"
   ]
  },
  {
   "cell_type": "code",
   "execution_count": null,
   "metadata": {},
   "outputs": [],
   "source": [
    "s = np.array(last_df['Schedule_name'].unique())\n",
    "r = []\n",
    "f = []\n",
    "dev = []\n",
    "for sch in s:\n",
    "    r.append(last_df[last_df['Schedule_name']==sch]['Route_number'].unique()[0])\n",
    "    f.append(last_df[last_df['Schedule_name']==sch]['Fleet_ID'].unique()[0])\n",
    "    dev.append(last_df[last_df['Schedule_name']==sch]['Device_number'].unique()[0])\n",
    "r = np.array(r)\n",
    "f = np.array(f)\n",
    "dev = np.array(dev)"
   ]
  },
  {
   "cell_type": "code",
   "execution_count": null,
   "metadata": {},
   "outputs": [],
   "source": [
    "d = {'Schedule':s,'Fleet_ID':f,'Route':r,'Device_number':dev}\n",
    "table = pd.DataFrame(data=d)\n",
    "#table"
   ]
  },
  {
   "cell_type": "code",
   "execution_count": null,
   "metadata": {},
   "outputs": [],
   "source": [
    "match = []\n",
    "for i in range(len(table)):\n",
    "    match.append(table['Route'][i] in table['Schedule'][i])\n",
    "match = np.array(match)\n",
    "table['match'] = match"
   ]
  },
  {
   "cell_type": "code",
   "execution_count": null,
   "metadata": {},
   "outputs": [],
   "source": [
    "def get_all(name, path):\n",
    "    result = []\n",
    "    for root, dirs, files in os.walk(path):\n",
    "        if name in files:\n",
    "            result.append(os.path.join(root, name))\n",
    "    return result"
   ]
  },
  {
   "cell_type": "code",
   "execution_count": null,
   "metadata": {},
   "outputs": [],
   "source": [
    "location = []\n",
    "for i in range(len(table)):\n",
    "    dev_num = table['Device_number'][i]\n",
    "    #print(dev_num)\n",
    "    dev_num = int(dev_num)\n",
    "    dev_num = str(dev_num)\n",
    "    str2 = '.csv'\n",
    "    dev_name_1 = dev_num + str2\n",
    "    path1 = 'C:/Users/DSNikhil/Downloads/Codes and Corresponding files/Nov 2016 Consolidated/KNP_2016_11_Nov_1/2016-11-08'\n",
    "    array_1 = get_all(dev_name_1,path1)\n",
    "    str3 = '2016-11-08_'\n",
    "    dev_name_2 = str3 + dev_name_1\n",
    "    path2 = 'C:/Users/DSNikhil/Downloads/Codes and Corresponding files/Nov 2016 Consolidated/KNP_2016_11_Nov_2/2016_11_Nov_2/2016-11-08'\n",
    "    array_2 = get_all(dev_name_2,path2)\n",
    "    if len(array_1) > 0:\n",
    "        location.append('KNP_2016_11_Nov_1')\n",
    "    elif len(array_2) > 0:\n",
    "        location.append('KNP_2016_11_Nov_2')\n",
    "    else: \n",
    "        location.append('File not found in KNP folders')\n",
    "location = np.array(location)"
   ]
  },
  {
   "cell_type": "code",
   "execution_count": null,
   "metadata": {},
   "outputs": [],
   "source": [
    "table['GPS file location'] = location"
   ]
  },
  {
   "cell_type": "code",
   "execution_count": null,
   "metadata": {},
   "outputs": [],
   "source": [
    "table_1 = table[table['match']==True]\n",
    "final_output_file = table_1[table_1['GPS file location']!='File not found in KNP folders']\n",
    "final_output_file = final_output_file.reset_index(drop=True)\n",
    "date = final_df['Date'][0]\n",
    "final_output_file['Date'] = date"
   ]
  },
  {
   "cell_type": "code",
   "execution_count": null,
   "metadata": {},
   "outputs": [],
   "source": [
    "final_output_file"
   ]
  },
  {
   "cell_type": "code",
   "execution_count": null,
   "metadata": {},
   "outputs": [],
   "source": [
    "final_output_file.to_csv('ETM_GPS_exact matches_available files_08_11_2016.csv',index=False)"
   ]
  },
  {
   "cell_type": "code",
   "execution_count": null,
   "metadata": {},
   "outputs": [],
   "source": []
  }
 ],
 "metadata": {
  "kernelspec": {
   "display_name": "Python 3",
   "language": "python",
   "name": "python3"
  },
  "language_info": {
   "codemirror_mode": {
    "name": "ipython",
    "version": 3
   },
   "file_extension": ".py",
   "mimetype": "text/x-python",
   "name": "python",
   "nbconvert_exporter": "python",
   "pygments_lexer": "ipython3",
   "version": "3.7.0"
  }
 },
 "nbformat": 4,
 "nbformat_minor": 2
}
