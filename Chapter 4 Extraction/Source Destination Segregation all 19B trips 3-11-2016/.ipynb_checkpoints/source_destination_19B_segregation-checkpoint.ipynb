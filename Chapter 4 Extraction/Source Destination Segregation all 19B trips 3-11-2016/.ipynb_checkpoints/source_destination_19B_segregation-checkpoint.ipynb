{
 "cells": [
  {
   "cell_type": "code",
   "execution_count": 2,
   "metadata": {},
   "outputs": [],
   "source": [
    "#only ady #and #spd #tvm depos have 19B "
   ]
  },
  {
   "cell_type": "code",
   "execution_count": 3,
   "metadata": {},
   "outputs": [],
   "source": [
    "import numpy as np\n",
    "import pandas as pd"
   ]
  },
  {
   "cell_type": "code",
   "execution_count": 4,
   "metadata": {},
   "outputs": [],
   "source": [
    "df = pd.read_csv(\"C:/Users/DSNikhil/Downloads/Codes and Corresponding files/ETM Data_Selected/031116/ADY_031116.csv\")\n",
    "#route name extraction from Schedule name\n",
    "df2 = df[df['Schedule_Name'].str.match('19B')]\n",
    "ady_schedule = np.array(df2['Schedule_Name'].unique())\n",
    "source_array = np.array(df2[df2['Schedule_Name']==ady_schedule[0]]['Source'].unique())\n",
    "schedule_array = np.array(df2['Schedule_Name'].unique())\n",
    "a = df['Depot_Name'].unique()[0]\n",
    "Depo_name = []\n",
    "Schedule_name = []\n",
    "Source = []\n",
    "Destination = []\n",
    "for s in schedule_array:\n",
    "      for t in source_array:\n",
    "            dest_array = np.array(df2[(df2['Schedule_Name']==s) & (df2['Source']==t)]['Destination'].unique())\n",
    "            for d in dest_array:\n",
    "                Destination.append(d)\n",
    "                Source.append(t)\n",
    "                Schedule_name.append(s)\n",
    "                Depo_name.append(a)\n",
    "Depo_name = np.array(Depo_name)\n",
    "Schedule_name = np.array(Schedule_name)\n",
    "Source = np.array(Source)\n",
    "Destination = np.array(Destination)\n",
    "d = {'Depo_name': Depo_name,'Schedule_name':Schedule_name,'Source':Source,'Destination':Destination}\n",
    "final_df = pd.DataFrame(data=d)\n",
    "df_ady = final_df\n",
    "df_ady_2 = df_ady.drop_duplicates(['Source','Destination'])"
   ]
  },
  {
   "cell_type": "code",
   "execution_count": 5,
   "metadata": {},
   "outputs": [],
   "source": [
    "df = pd.read_csv(\"C:/Users/DSNikhil/Downloads/Codes and Corresponding files/ETM Data_Selected/031116/AND_031116.csv\")\n",
    "df2 = df[df['Schedule_Name'].str.match('19B')]\n",
    "ady_schedule = np.array(df2['Schedule_Name'].unique())\n",
    "source_array = np.array(df2[df2['Schedule_Name']==ady_schedule[0]]['Source'].unique())\n",
    "schedule_array = np.array(df2['Schedule_Name'].unique())\n",
    "a = df['Depot_Name'].unique()[0]\n",
    "Depo_name = []\n",
    "Schedule_name = []\n",
    "Source = []\n",
    "Destination = []\n",
    "for s in schedule_array:\n",
    "      for t in source_array:\n",
    "            dest_array = np.array(df2[(df2['Schedule_Name']==s) & (df2['Source']==t)]['Destination'].unique())\n",
    "            for d in dest_array:\n",
    "                Destination.append(d)\n",
    "                Source.append(t)\n",
    "                Schedule_name.append(s)\n",
    "                Depo_name.append(a)\n",
    "Depo_name = np.array(Depo_name)\n",
    "Schedule_name = np.array(Schedule_name)\n",
    "Source = np.array(Source)\n",
    "Destination = np.array(Destination)\n",
    "d = {'Depo_name': Depo_name,'Schedule_name':Schedule_name,'Source':Source,'Destination':Destination}\n",
    "final_df = pd.DataFrame(data=d)\n",
    "df_and = final_df\n",
    "df_and_2 = df_and.drop_duplicates(['Source','Destination'])"
   ]
  },
  {
   "cell_type": "code",
   "execution_count": 6,
   "metadata": {},
   "outputs": [],
   "source": [
    "df = pd.read_csv(\"C:/Users/DSNikhil/Downloads/Codes and Corresponding files/ETM Data_Selected/031116/SPD_031116.csv\")\n",
    "df2 = df[df['Schedule_Name'].str.match('19B')]\n",
    "ady_schedule = np.array(df2['Schedule_Name'].unique())\n",
    "source_array = np.array(df2[df2['Schedule_Name']==ady_schedule[0]]['Source'].unique())\n",
    "schedule_array = np.array(df2['Schedule_Name'].unique())\n",
    "a = df['Depot_Name'].unique()[0]\n",
    "Depo_name = []\n",
    "Schedule_name = []\n",
    "Source = []\n",
    "Destination = []\n",
    "for s in schedule_array:\n",
    "      for t in source_array:\n",
    "            dest_array = np.array(df2[(df2['Schedule_Name']==s) & (df2['Source']==t)]['Destination'].unique())\n",
    "            for d in dest_array:\n",
    "                Destination.append(d)\n",
    "                Source.append(t)\n",
    "                Schedule_name.append(s)\n",
    "                Depo_name.append(a)\n",
    "Depo_name = np.array(Depo_name)\n",
    "Schedule_name = np.array(Schedule_name)\n",
    "Source = np.array(Source)\n",
    "Destination = np.array(Destination)\n",
    "d = {'Depo_name': Depo_name,'Schedule_name':Schedule_name,'Source':Source,'Destination':Destination}\n",
    "final_df = pd.DataFrame(data=d)\n",
    "df_spd = final_df\n",
    "df_spd_2 = df_spd.drop_duplicates(['Source','Destination'])"
   ]
  },
  {
   "cell_type": "code",
   "execution_count": 7,
   "metadata": {},
   "outputs": [],
   "source": [
    "df = pd.read_csv(\"C:/Users/DSNikhil/Downloads/Codes and Corresponding files/ETM Data_Selected/031116/TVM_031116.csv\")\n",
    "df2 = df[df['Schedule_Name'].str.match('19B')]\n",
    "ady_schedule = np.array(df2['Schedule_Name'].unique())\n",
    "source_array = np.array(df2[df2['Schedule_Name']==ady_schedule[0]]['Source'].unique())\n",
    "schedule_array = np.array(df2['Schedule_Name'].unique())\n",
    "a = df['Depot_Name'].unique()[0]\n",
    "Depo_name = []\n",
    "Schedule_name = []\n",
    "Source = []\n",
    "Destination = []\n",
    "for s in schedule_array:\n",
    "      for t in source_array:\n",
    "            dest_array = np.array(df2[(df2['Schedule_Name']==s) & (df2['Source']==t)]['Destination'].unique())\n",
    "            for d in dest_array:\n",
    "                Destination.append(d)\n",
    "                Source.append(t)\n",
    "                Schedule_name.append(s)\n",
    "                Depo_name.append(a)\n",
    "Depo_name = np.array(Depo_name)\n",
    "Schedule_name = np.array(Schedule_name)\n",
    "Source = np.array(Source)\n",
    "Destination = np.array(Destination)\n",
    "d = {'Depo_name': Depo_name,'Schedule_name':Schedule_name,'Source':Source,'Destination':Destination}\n",
    "final_df = pd.DataFrame(data=d)\n",
    "df_tvm = final_df\n",
    "df_tvm_2 = df_tvm.drop_duplicates(['Source','Destination'])"
   ]
  },
  {
   "cell_type": "code",
   "execution_count": 8,
   "metadata": {},
   "outputs": [],
   "source": [
    "df_a = df_ady.append(df_and,ignore_index=True)\n",
    "df_b = df_a.append(df_spd,ignore_index=True)\n",
    "df_c = df_b.append(df_tvm,ignore_index=True)"
   ]
  },
  {
   "cell_type": "code",
   "execution_count": 9,
   "metadata": {},
   "outputs": [],
   "source": [
    "#df_c.to_csv('19B_all_trips_sources_destinations_3_11.csv',index=False)\n",
    "#to include repeated schedules"
   ]
  },
  {
   "cell_type": "code",
   "execution_count": 10,
   "metadata": {},
   "outputs": [],
   "source": [
    "df_a = df_ady_2.append(df_and_2,ignore_index=True)\n",
    "df_b = df_a.append(df_spd_2,ignore_index=True)\n",
    "df_c = df_b.append(df_tvm_2,ignore_index=True)"
   ]
  },
  {
   "cell_type": "code",
   "execution_count": 13,
   "metadata": {},
   "outputs": [],
   "source": [
    "#only unique source destination pairs\n",
    "df_c.to_csv('C:/Users/DSNikhil/Downloads/Codes and Corresponding files/Chapter 4 Extraction/Source Destination Segregation all 19B trips 3-11-2016/19B_all_trips_sources_destinations_unique_3_11.csv',index=False)"
   ]
  },
  {
   "cell_type": "code",
   "execution_count": null,
   "metadata": {},
   "outputs": [],
   "source": []
  }
 ],
 "metadata": {
  "kernelspec": {
   "display_name": "Python 3",
   "language": "python",
   "name": "python3"
  },
  "language_info": {
   "codemirror_mode": {
    "name": "ipython",
    "version": 3
   },
   "file_extension": ".py",
   "mimetype": "text/x-python",
   "name": "python",
   "nbconvert_exporter": "python",
   "pygments_lexer": "ipython3",
   "version": "3.7.0"
  }
 },
 "nbformat": 4,
 "nbformat_minor": 2
}
