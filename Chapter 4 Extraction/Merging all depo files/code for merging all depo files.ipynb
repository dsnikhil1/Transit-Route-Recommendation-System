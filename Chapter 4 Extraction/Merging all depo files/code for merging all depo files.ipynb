{
 "cells": [
  {
   "cell_type": "code",
   "execution_count": 1,
   "metadata": {},
   "outputs": [],
   "source": [
    "import numpy as np\n",
    "import pandas as pd\n",
    "import glob\n",
    "import os"
   ]
  },
  {
   "cell_type": "code",
   "execution_count": 2,
   "metadata": {},
   "outputs": [],
   "source": [
    "path = 'C:/Users/DSNikhil/Downloads/Codes and Corresponding files/ETM Data_Selected/031116'"
   ]
  },
  {
   "cell_type": "code",
   "execution_count": 3,
   "metadata": {},
   "outputs": [],
   "source": [
    "allcsvfiles = glob.glob(os.path.join(path, '*.csv'))\n",
    "dataframes = []\n",
    "for file in allcsvfiles:\n",
    "    df = pd.read_csv(file)\n",
    "    dataframes.append(df)\n",
    "result = pd.concat(dataframes,ignore_index=True)"
   ]
  },
  {
   "cell_type": "code",
   "execution_count": 4,
   "metadata": {},
   "outputs": [],
   "source": [
    "result.to_csv('C:/Users/DSNikhil/Downloads/Codes and Corresponding files/Chapter 4 Extraction/Merging all depo files/ETM ticketing_3_11.csv',index=False)"
   ]
  }
 ],
 "metadata": {
  "kernelspec": {
   "display_name": "Python 3",
   "language": "python",
   "name": "python3"
  },
  "language_info": {
   "codemirror_mode": {
    "name": "ipython",
    "version": 3
   },
   "file_extension": ".py",
   "mimetype": "text/x-python",
   "name": "python",
   "nbconvert_exporter": "python",
   "pygments_lexer": "ipython3",
   "version": "3.7.0"
  }
 },
 "nbformat": 4,
 "nbformat_minor": 2
}
