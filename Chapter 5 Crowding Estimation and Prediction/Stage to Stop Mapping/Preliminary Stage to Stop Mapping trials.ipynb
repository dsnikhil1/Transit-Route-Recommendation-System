{
 "cells": [
  {
   "cell_type": "code",
   "execution_count": 32,
   "metadata": {},
   "outputs": [],
   "source": [
    "import numpy as np\n",
    "import pandas as pd\n",
    "import scipy as sp\n",
    "import matplotlib.pyplot as plt"
   ]
  },
  {
   "cell_type": "code",
   "execution_count": 33,
   "metadata": {},
   "outputs": [],
   "source": [
    "df = pd.read_csv(\"C:/Users/DSNikhil/Downloads/Codes and Corresponding files/ETM Data_Selected/031116/ADY_031116.csv\")\n",
    "df_source = df[df['Source']=='KELAMBAKKA']\n",
    "df_source_destination = df_source[df_source['Destination']=='T.NAGAR   ']\n",
    "df_source_destination = df_source_destination.reset_index(drop=True)\n",
    "df_source_destination_trip = df_source_destination[df_source_destination['TripStartTime']=='15:07:08']\n",
    "df_source_destination_trip = df_source_destination_trip.reset_index(drop=True)"
   ]
  },
  {
   "cell_type": "code",
   "execution_count": 34,
   "metadata": {},
   "outputs": [],
   "source": [
    "all_stages_19B_dataframe = pd.read_csv(\"C:/Users/DSNikhil/Downloads/Codes and Corresponding files/Chapter 5 Crowding Estimation and Prediction/Stage to Stop Mapping/19B_Kelambakkam_T.Nagar_3_11 stages list_Adyar depo (ordered).csv\")\n",
    "all_stages_19B = np.array(all_stages_19B_dataframe['Stage_name'])"
   ]
  },
  {
   "cell_type": "code",
   "execution_count": 35,
   "metadata": {},
   "outputs": [],
   "source": [
    "Stage = []\n",
    "Ticket_issued_time = []\n",
    "for stage in all_stages_19B:\n",
    "    df_source_destination_trip_stage = df_source_destination_trip[df_source_destination_trip['FromStage']==stage]\n",
    "    tickets_array = np.array(df_source_destination_trip_stage['TicketIssuedTime'])\n",
    "    for i in range(len(tickets_array)):\n",
    "        Ticket_issued_time.append(tickets_array[i])\n",
    "        Stage.append(stage)\n",
    "Stage = np.array(Stage)\n",
    "Ticket_issued_time = np.array(Ticket_issued_time)\n",
    "d = {'Stage':Stage,'Ticket_issued_time':Ticket_issued_time}\n",
    "df_stages_tickets = pd.DataFrame(data=d)"
   ]
  },
  {
   "cell_type": "code",
   "execution_count": 36,
   "metadata": {},
   "outputs": [],
   "source": [
    "df_stages_tickets['Ticket_issued_time'] = pd.to_datetime(df_stages_tickets['Ticket_issued_time'])"
   ]
  },
  {
   "cell_type": "code",
   "execution_count": 37,
   "metadata": {},
   "outputs": [
    {
     "data": {
      "text/html": [
       "<div>\n",
       "<style scoped>\n",
       "    .dataframe tbody tr th:only-of-type {\n",
       "        vertical-align: middle;\n",
       "    }\n",
       "\n",
       "    .dataframe tbody tr th {\n",
       "        vertical-align: top;\n",
       "    }\n",
       "\n",
       "    .dataframe thead th {\n",
       "        text-align: right;\n",
       "    }\n",
       "</style>\n",
       "<table border=\"1\" class=\"dataframe\">\n",
       "  <thead>\n",
       "    <tr style=\"text-align: right;\">\n",
       "      <th></th>\n",
       "      <th>Stage</th>\n",
       "      <th>Ticket_issued_time</th>\n",
       "    </tr>\n",
       "  </thead>\n",
       "  <tbody>\n",
       "    <tr>\n",
       "      <th>0</th>\n",
       "      <td>KELAMBAKKA</td>\n",
       "      <td>2020-07-09 15:39:59</td>\n",
       "    </tr>\n",
       "    <tr>\n",
       "      <th>1</th>\n",
       "      <td>KELAMBAKKA</td>\n",
       "      <td>2020-07-09 15:40:19</td>\n",
       "    </tr>\n",
       "    <tr>\n",
       "      <th>2</th>\n",
       "      <td>KELAMBAKKA</td>\n",
       "      <td>2020-07-09 15:40:30</td>\n",
       "    </tr>\n",
       "    <tr>\n",
       "      <th>3</th>\n",
       "      <td>KELAMBAKKA</td>\n",
       "      <td>2020-07-09 15:42:30</td>\n",
       "    </tr>\n",
       "    <tr>\n",
       "      <th>4</th>\n",
       "      <td>HINDUSTAN</td>\n",
       "      <td>2020-07-09 15:44:26</td>\n",
       "    </tr>\n",
       "    <tr>\n",
       "      <th>5</th>\n",
       "      <td>HINDUSTAN</td>\n",
       "      <td>2020-07-09 15:44:29</td>\n",
       "    </tr>\n",
       "    <tr>\n",
       "      <th>6</th>\n",
       "      <td>HINDUSTAN</td>\n",
       "      <td>2020-07-09 15:45:07</td>\n",
       "    </tr>\n",
       "    <tr>\n",
       "      <th>7</th>\n",
       "      <td>HINDUSTAN</td>\n",
       "      <td>2020-07-09 15:45:22</td>\n",
       "    </tr>\n",
       "    <tr>\n",
       "      <th>8</th>\n",
       "      <td>HINDUSTAN</td>\n",
       "      <td>2020-07-09 15:45:38</td>\n",
       "    </tr>\n",
       "    <tr>\n",
       "      <th>9</th>\n",
       "      <td>HINDUSTAN</td>\n",
       "      <td>2020-07-09 15:45:44</td>\n",
       "    </tr>\n",
       "    <tr>\n",
       "      <th>10</th>\n",
       "      <td>CHURCH</td>\n",
       "      <td>2020-07-09 15:53:00</td>\n",
       "    </tr>\n",
       "    <tr>\n",
       "      <th>11</th>\n",
       "      <td>NAVALUR</td>\n",
       "      <td>2020-07-09 15:53:56</td>\n",
       "    </tr>\n",
       "    <tr>\n",
       "      <th>12</th>\n",
       "      <td>NAVALUR</td>\n",
       "      <td>2020-07-09 15:54:28</td>\n",
       "    </tr>\n",
       "    <tr>\n",
       "      <th>13</th>\n",
       "      <td>NAVALUR</td>\n",
       "      <td>2020-07-09 15:54:48</td>\n",
       "    </tr>\n",
       "    <tr>\n",
       "      <th>14</th>\n",
       "      <td>NAVALUR</td>\n",
       "      <td>2020-07-09 15:54:54</td>\n",
       "    </tr>\n",
       "    <tr>\n",
       "      <th>15</th>\n",
       "      <td>NAVALUR</td>\n",
       "      <td>2020-07-09 15:55:30</td>\n",
       "    </tr>\n",
       "    <tr>\n",
       "      <th>16</th>\n",
       "      <td>NAVALUR</td>\n",
       "      <td>2020-07-09 15:55:41</td>\n",
       "    </tr>\n",
       "    <tr>\n",
       "      <th>17</th>\n",
       "      <td>NAVALUR</td>\n",
       "      <td>2020-07-09 15:55:45</td>\n",
       "    </tr>\n",
       "    <tr>\n",
       "      <th>18</th>\n",
       "      <td>CHEMMANCHE</td>\n",
       "      <td>2020-07-09 15:58:10</td>\n",
       "    </tr>\n",
       "    <tr>\n",
       "      <th>19</th>\n",
       "      <td>CHEMMANCHE</td>\n",
       "      <td>2020-07-09 15:58:17</td>\n",
       "    </tr>\n",
       "    <tr>\n",
       "      <th>20</th>\n",
       "      <td>CHEMMANCHE</td>\n",
       "      <td>2020-07-09 15:58:56</td>\n",
       "    </tr>\n",
       "    <tr>\n",
       "      <th>21</th>\n",
       "      <td>WPTC</td>\n",
       "      <td>2020-07-09 16:36:47</td>\n",
       "    </tr>\n",
       "    <tr>\n",
       "      <th>22</th>\n",
       "      <td>WPTC</td>\n",
       "      <td>2020-07-09 16:37:09</td>\n",
       "    </tr>\n",
       "  </tbody>\n",
       "</table>\n",
       "</div>"
      ],
      "text/plain": [
       "         Stage  Ticket_issued_time\n",
       "0   KELAMBAKKA 2020-07-09 15:39:59\n",
       "1   KELAMBAKKA 2020-07-09 15:40:19\n",
       "2   KELAMBAKKA 2020-07-09 15:40:30\n",
       "3   KELAMBAKKA 2020-07-09 15:42:30\n",
       "4   HINDUSTAN  2020-07-09 15:44:26\n",
       "5   HINDUSTAN  2020-07-09 15:44:29\n",
       "6   HINDUSTAN  2020-07-09 15:45:07\n",
       "7   HINDUSTAN  2020-07-09 15:45:22\n",
       "8   HINDUSTAN  2020-07-09 15:45:38\n",
       "9   HINDUSTAN  2020-07-09 15:45:44\n",
       "10  CHURCH     2020-07-09 15:53:00\n",
       "11  NAVALUR    2020-07-09 15:53:56\n",
       "12  NAVALUR    2020-07-09 15:54:28\n",
       "13  NAVALUR    2020-07-09 15:54:48\n",
       "14  NAVALUR    2020-07-09 15:54:54\n",
       "15  NAVALUR    2020-07-09 15:55:30\n",
       "16  NAVALUR    2020-07-09 15:55:41\n",
       "17  NAVALUR    2020-07-09 15:55:45\n",
       "18  CHEMMANCHE 2020-07-09 15:58:10\n",
       "19  CHEMMANCHE 2020-07-09 15:58:17\n",
       "20  CHEMMANCHE 2020-07-09 15:58:56\n",
       "21  WPTC       2020-07-09 16:36:47\n",
       "22  WPTC       2020-07-09 16:37:09"
      ]
     },
     "execution_count": 37,
     "metadata": {},
     "output_type": "execute_result"
    }
   ],
   "source": [
    "df_stages_tickets = df_stages_tickets.sort_values(by=['Ticket_issued_time'])\n",
    "df_stages_tickets = df_stages_tickets.reset_index(drop=True)\n",
    "df_stages_tickets"
   ]
  },
  {
   "cell_type": "code",
   "execution_count": 38,
   "metadata": {},
   "outputs": [],
   "source": [
    "time_since_departure_minutes = []\n",
    "time_since_departure_minutes.append(0)\n",
    "for i in range(1,np.shape(df_stages_tickets)[0]):\n",
    "    t = df_stages_tickets['Ticket_issued_time'][i] - df_stages_tickets['Ticket_issued_time'][0]\n",
    "    t = t.total_seconds() / 60\n",
    "    time_since_departure_minutes.append(t)\n",
    "time_since_departure_minutes = np.array(time_since_departure_minutes)"
   ]
  },
  {
   "cell_type": "code",
   "execution_count": 39,
   "metadata": {},
   "outputs": [],
   "source": [
    "df_stages_tickets['Time_since_departure_minutes'] = time_since_departure_minutes"
   ]
  },
  {
   "cell_type": "code",
   "execution_count": 40,
   "metadata": {},
   "outputs": [
    {
     "data": {
      "text/html": [
       "<div>\n",
       "<style scoped>\n",
       "    .dataframe tbody tr th:only-of-type {\n",
       "        vertical-align: middle;\n",
       "    }\n",
       "\n",
       "    .dataframe tbody tr th {\n",
       "        vertical-align: top;\n",
       "    }\n",
       "\n",
       "    .dataframe thead th {\n",
       "        text-align: right;\n",
       "    }\n",
       "</style>\n",
       "<table border=\"1\" class=\"dataframe\">\n",
       "  <thead>\n",
       "    <tr style=\"text-align: right;\">\n",
       "      <th></th>\n",
       "      <th>Stage</th>\n",
       "      <th>Ticket_issued_time</th>\n",
       "      <th>Time_since_departure_minutes</th>\n",
       "    </tr>\n",
       "  </thead>\n",
       "  <tbody>\n",
       "    <tr>\n",
       "      <th>0</th>\n",
       "      <td>KELAMBAKKA</td>\n",
       "      <td>2020-07-09 15:39:59</td>\n",
       "      <td>0.000000</td>\n",
       "    </tr>\n",
       "    <tr>\n",
       "      <th>1</th>\n",
       "      <td>KELAMBAKKA</td>\n",
       "      <td>2020-07-09 15:40:19</td>\n",
       "      <td>0.333333</td>\n",
       "    </tr>\n",
       "    <tr>\n",
       "      <th>2</th>\n",
       "      <td>KELAMBAKKA</td>\n",
       "      <td>2020-07-09 15:40:30</td>\n",
       "      <td>0.516667</td>\n",
       "    </tr>\n",
       "    <tr>\n",
       "      <th>3</th>\n",
       "      <td>KELAMBAKKA</td>\n",
       "      <td>2020-07-09 15:42:30</td>\n",
       "      <td>2.516667</td>\n",
       "    </tr>\n",
       "    <tr>\n",
       "      <th>4</th>\n",
       "      <td>HINDUSTAN</td>\n",
       "      <td>2020-07-09 15:44:26</td>\n",
       "      <td>4.450000</td>\n",
       "    </tr>\n",
       "    <tr>\n",
       "      <th>5</th>\n",
       "      <td>HINDUSTAN</td>\n",
       "      <td>2020-07-09 15:44:29</td>\n",
       "      <td>4.500000</td>\n",
       "    </tr>\n",
       "    <tr>\n",
       "      <th>6</th>\n",
       "      <td>HINDUSTAN</td>\n",
       "      <td>2020-07-09 15:45:07</td>\n",
       "      <td>5.133333</td>\n",
       "    </tr>\n",
       "    <tr>\n",
       "      <th>7</th>\n",
       "      <td>HINDUSTAN</td>\n",
       "      <td>2020-07-09 15:45:22</td>\n",
       "      <td>5.383333</td>\n",
       "    </tr>\n",
       "    <tr>\n",
       "      <th>8</th>\n",
       "      <td>HINDUSTAN</td>\n",
       "      <td>2020-07-09 15:45:38</td>\n",
       "      <td>5.650000</td>\n",
       "    </tr>\n",
       "    <tr>\n",
       "      <th>9</th>\n",
       "      <td>HINDUSTAN</td>\n",
       "      <td>2020-07-09 15:45:44</td>\n",
       "      <td>5.750000</td>\n",
       "    </tr>\n",
       "    <tr>\n",
       "      <th>10</th>\n",
       "      <td>CHURCH</td>\n",
       "      <td>2020-07-09 15:53:00</td>\n",
       "      <td>13.016667</td>\n",
       "    </tr>\n",
       "    <tr>\n",
       "      <th>11</th>\n",
       "      <td>NAVALUR</td>\n",
       "      <td>2020-07-09 15:53:56</td>\n",
       "      <td>13.950000</td>\n",
       "    </tr>\n",
       "    <tr>\n",
       "      <th>12</th>\n",
       "      <td>NAVALUR</td>\n",
       "      <td>2020-07-09 15:54:28</td>\n",
       "      <td>14.483333</td>\n",
       "    </tr>\n",
       "    <tr>\n",
       "      <th>13</th>\n",
       "      <td>NAVALUR</td>\n",
       "      <td>2020-07-09 15:54:48</td>\n",
       "      <td>14.816667</td>\n",
       "    </tr>\n",
       "    <tr>\n",
       "      <th>14</th>\n",
       "      <td>NAVALUR</td>\n",
       "      <td>2020-07-09 15:54:54</td>\n",
       "      <td>14.916667</td>\n",
       "    </tr>\n",
       "    <tr>\n",
       "      <th>15</th>\n",
       "      <td>NAVALUR</td>\n",
       "      <td>2020-07-09 15:55:30</td>\n",
       "      <td>15.516667</td>\n",
       "    </tr>\n",
       "    <tr>\n",
       "      <th>16</th>\n",
       "      <td>NAVALUR</td>\n",
       "      <td>2020-07-09 15:55:41</td>\n",
       "      <td>15.700000</td>\n",
       "    </tr>\n",
       "    <tr>\n",
       "      <th>17</th>\n",
       "      <td>NAVALUR</td>\n",
       "      <td>2020-07-09 15:55:45</td>\n",
       "      <td>15.766667</td>\n",
       "    </tr>\n",
       "    <tr>\n",
       "      <th>18</th>\n",
       "      <td>CHEMMANCHE</td>\n",
       "      <td>2020-07-09 15:58:10</td>\n",
       "      <td>18.183333</td>\n",
       "    </tr>\n",
       "    <tr>\n",
       "      <th>19</th>\n",
       "      <td>CHEMMANCHE</td>\n",
       "      <td>2020-07-09 15:58:17</td>\n",
       "      <td>18.300000</td>\n",
       "    </tr>\n",
       "    <tr>\n",
       "      <th>20</th>\n",
       "      <td>CHEMMANCHE</td>\n",
       "      <td>2020-07-09 15:58:56</td>\n",
       "      <td>18.950000</td>\n",
       "    </tr>\n",
       "    <tr>\n",
       "      <th>21</th>\n",
       "      <td>WPTC</td>\n",
       "      <td>2020-07-09 16:36:47</td>\n",
       "      <td>56.800000</td>\n",
       "    </tr>\n",
       "    <tr>\n",
       "      <th>22</th>\n",
       "      <td>WPTC</td>\n",
       "      <td>2020-07-09 16:37:09</td>\n",
       "      <td>57.166667</td>\n",
       "    </tr>\n",
       "  </tbody>\n",
       "</table>\n",
       "</div>"
      ],
      "text/plain": [
       "         Stage  Ticket_issued_time  Time_since_departure_minutes\n",
       "0   KELAMBAKKA 2020-07-09 15:39:59                      0.000000\n",
       "1   KELAMBAKKA 2020-07-09 15:40:19                      0.333333\n",
       "2   KELAMBAKKA 2020-07-09 15:40:30                      0.516667\n",
       "3   KELAMBAKKA 2020-07-09 15:42:30                      2.516667\n",
       "4   HINDUSTAN  2020-07-09 15:44:26                      4.450000\n",
       "5   HINDUSTAN  2020-07-09 15:44:29                      4.500000\n",
       "6   HINDUSTAN  2020-07-09 15:45:07                      5.133333\n",
       "7   HINDUSTAN  2020-07-09 15:45:22                      5.383333\n",
       "8   HINDUSTAN  2020-07-09 15:45:38                      5.650000\n",
       "9   HINDUSTAN  2020-07-09 15:45:44                      5.750000\n",
       "10  CHURCH     2020-07-09 15:53:00                     13.016667\n",
       "11  NAVALUR    2020-07-09 15:53:56                     13.950000\n",
       "12  NAVALUR    2020-07-09 15:54:28                     14.483333\n",
       "13  NAVALUR    2020-07-09 15:54:48                     14.816667\n",
       "14  NAVALUR    2020-07-09 15:54:54                     14.916667\n",
       "15  NAVALUR    2020-07-09 15:55:30                     15.516667\n",
       "16  NAVALUR    2020-07-09 15:55:41                     15.700000\n",
       "17  NAVALUR    2020-07-09 15:55:45                     15.766667\n",
       "18  CHEMMANCHE 2020-07-09 15:58:10                     18.183333\n",
       "19  CHEMMANCHE 2020-07-09 15:58:17                     18.300000\n",
       "20  CHEMMANCHE 2020-07-09 15:58:56                     18.950000\n",
       "21  WPTC       2020-07-09 16:36:47                     56.800000\n",
       "22  WPTC       2020-07-09 16:37:09                     57.166667"
      ]
     },
     "execution_count": 40,
     "metadata": {},
     "output_type": "execute_result"
    }
   ],
   "source": [
    "df_stages_tickets"
   ]
  },
  {
   "cell_type": "code",
   "execution_count": 41,
   "metadata": {},
   "outputs": [],
   "source": [
    "#Natural Breaks Optimization\n",
    "#Kernel Density Estimation"
   ]
  },
  {
   "cell_type": "code",
   "execution_count": 42,
   "metadata": {},
   "outputs": [
    {
     "data": {
      "image/png": "[encoded data removed]",
      "text/plain": [
       "<Figure size 432x288 with 1 Axes>"
      ]
     },
     "metadata": {
      "needs_background": "light"
     },
     "output_type": "display_data"
    }
   ],
   "source": [
    "#plot of time since departure for all tickets\n",
    "plt.scatter(x=df_stages_tickets['Time_since_departure_minutes'],y=df_stages_tickets['Time_since_departure_minutes'],c='b')\n",
    "plt.show()"
   ]
  },
  {
   "cell_type": "code",
   "execution_count": 43,
   "metadata": {},
   "outputs": [],
   "source": [
    "df_stages_tickets_kelambakka = df_stages_tickets[df_stages_tickets['Stage']=='KELAMBAKKA']\n",
    "df_stages_tickets_kelambakka = df_stages_tickets_kelambakka.reset_index(drop=True)"
   ]
  },
  {
   "cell_type": "code",
   "execution_count": 44,
   "metadata": {},
   "outputs": [],
   "source": [
    "df_stages_tickets_Navalur = df_stages_tickets[df_stages_tickets['Stage']=='NAVALUR   ']\n",
    "df_stages_tickets_Navalur = df_stages_tickets_Navalur.reset_index(drop=True)"
   ]
  },
  {
   "cell_type": "code",
   "execution_count": 45,
   "metadata": {},
   "outputs": [
    {
     "data": {
      "text/html": [
       "<div>\n",
       "<style scoped>\n",
       "    .dataframe tbody tr th:only-of-type {\n",
       "        vertical-align: middle;\n",
       "    }\n",
       "\n",
       "    .dataframe tbody tr th {\n",
       "        vertical-align: top;\n",
       "    }\n",
       "\n",
       "    .dataframe thead th {\n",
       "        text-align: right;\n",
       "    }\n",
       "</style>\n",
       "<table border=\"1\" class=\"dataframe\">\n",
       "  <thead>\n",
       "    <tr style=\"text-align: right;\">\n",
       "      <th></th>\n",
       "      <th>Stage</th>\n",
       "      <th>Ticket_issued_time</th>\n",
       "      <th>Time_since_departure_minutes</th>\n",
       "    </tr>\n",
       "  </thead>\n",
       "  <tbody>\n",
       "    <tr>\n",
       "      <th>0</th>\n",
       "      <td>KELAMBAKKA</td>\n",
       "      <td>2020-07-09 15:39:59</td>\n",
       "      <td>0.000000</td>\n",
       "    </tr>\n",
       "    <tr>\n",
       "      <th>1</th>\n",
       "      <td>KELAMBAKKA</td>\n",
       "      <td>2020-07-09 15:40:19</td>\n",
       "      <td>0.333333</td>\n",
       "    </tr>\n",
       "    <tr>\n",
       "      <th>2</th>\n",
       "      <td>KELAMBAKKA</td>\n",
       "      <td>2020-07-09 15:40:30</td>\n",
       "      <td>0.516667</td>\n",
       "    </tr>\n",
       "    <tr>\n",
       "      <th>3</th>\n",
       "      <td>KELAMBAKKA</td>\n",
       "      <td>2020-07-09 15:42:30</td>\n",
       "      <td>2.516667</td>\n",
       "    </tr>\n",
       "  </tbody>\n",
       "</table>\n",
       "</div>"
      ],
      "text/plain": [
       "        Stage  Ticket_issued_time  Time_since_departure_minutes\n",
       "0  KELAMBAKKA 2020-07-09 15:39:59                      0.000000\n",
       "1  KELAMBAKKA 2020-07-09 15:40:19                      0.333333\n",
       "2  KELAMBAKKA 2020-07-09 15:40:30                      0.516667\n",
       "3  KELAMBAKKA 2020-07-09 15:42:30                      2.516667"
      ]
     },
     "execution_count": 45,
     "metadata": {},
     "output_type": "execute_result"
    }
   ],
   "source": [
    "df_stages_tickets_kelambakka"
   ]
  },
  {
   "cell_type": "code",
   "execution_count": 46,
   "metadata": {},
   "outputs": [
    {
     "data": {
      "text/html": [
       "<div>\n",
       "<style scoped>\n",
       "    .dataframe tbody tr th:only-of-type {\n",
       "        vertical-align: middle;\n",
       "    }\n",
       "\n",
       "    .dataframe tbody tr th {\n",
       "        vertical-align: top;\n",
       "    }\n",
       "\n",
       "    .dataframe thead th {\n",
       "        text-align: right;\n",
       "    }\n",
       "</style>\n",
       "<table border=\"1\" class=\"dataframe\">\n",
       "  <thead>\n",
       "    <tr style=\"text-align: right;\">\n",
       "      <th></th>\n",
       "      <th>Stage</th>\n",
       "      <th>Ticket_issued_time</th>\n",
       "      <th>Time_since_departure_minutes</th>\n",
       "    </tr>\n",
       "  </thead>\n",
       "  <tbody>\n",
       "    <tr>\n",
       "      <th>0</th>\n",
       "      <td>NAVALUR</td>\n",
       "      <td>2020-07-09 15:53:56</td>\n",
       "      <td>13.950000</td>\n",
       "    </tr>\n",
       "    <tr>\n",
       "      <th>1</th>\n",
       "      <td>NAVALUR</td>\n",
       "      <td>2020-07-09 15:54:28</td>\n",
       "      <td>14.483333</td>\n",
       "    </tr>\n",
       "    <tr>\n",
       "      <th>2</th>\n",
       "      <td>NAVALUR</td>\n",
       "      <td>2020-07-09 15:54:48</td>\n",
       "      <td>14.816667</td>\n",
       "    </tr>\n",
       "    <tr>\n",
       "      <th>3</th>\n",
       "      <td>NAVALUR</td>\n",
       "      <td>2020-07-09 15:54:54</td>\n",
       "      <td>14.916667</td>\n",
       "    </tr>\n",
       "    <tr>\n",
       "      <th>4</th>\n",
       "      <td>NAVALUR</td>\n",
       "      <td>2020-07-09 15:55:30</td>\n",
       "      <td>15.516667</td>\n",
       "    </tr>\n",
       "    <tr>\n",
       "      <th>5</th>\n",
       "      <td>NAVALUR</td>\n",
       "      <td>2020-07-09 15:55:41</td>\n",
       "      <td>15.700000</td>\n",
       "    </tr>\n",
       "    <tr>\n",
       "      <th>6</th>\n",
       "      <td>NAVALUR</td>\n",
       "      <td>2020-07-09 15:55:45</td>\n",
       "      <td>15.766667</td>\n",
       "    </tr>\n",
       "  </tbody>\n",
       "</table>\n",
       "</div>"
      ],
      "text/plain": [
       "        Stage  Ticket_issued_time  Time_since_departure_minutes\n",
       "0  NAVALUR    2020-07-09 15:53:56                     13.950000\n",
       "1  NAVALUR    2020-07-09 15:54:28                     14.483333\n",
       "2  NAVALUR    2020-07-09 15:54:48                     14.816667\n",
       "3  NAVALUR    2020-07-09 15:54:54                     14.916667\n",
       "4  NAVALUR    2020-07-09 15:55:30                     15.516667\n",
       "5  NAVALUR    2020-07-09 15:55:41                     15.700000\n",
       "6  NAVALUR    2020-07-09 15:55:45                     15.766667"
      ]
     },
     "execution_count": 46,
     "metadata": {},
     "output_type": "execute_result"
    }
   ],
   "source": [
    "df_stages_tickets_Navalur"
   ]
  },
  {
   "cell_type": "code",
   "execution_count": 47,
   "metadata": {},
   "outputs": [
    {
     "data": {
      "image/png": "[encoded data removed]",
      "text/plain": [
       "<Figure size 432x288 with 1 Axes>"
      ]
     },
     "metadata": {
      "needs_background": "light"
     },
     "output_type": "display_data"
    }
   ],
   "source": [
    "#plot of time since departure for tickets issued at Stage Kelambakka \n",
    "plt.scatter(x=df_stages_tickets_kelambakka['Time_since_departure_minutes'],y=df_stages_tickets_kelambakka['Time_since_departure_minutes'],c='g')\n",
    "plt.xlabel('Kelambakka')\n",
    "plt.show()"
   ]
  },
  {
   "cell_type": "code",
   "execution_count": 48,
   "metadata": {},
   "outputs": [
    {
     "data": {
      "image/png": "[encoded data removed]",
      "text/plain": [
       "<Figure size 432x288 with 1 Axes>"
      ]
     },
     "metadata": {
      "needs_background": "light"
     },
     "output_type": "display_data"
    }
   ],
   "source": [
    "#plot of time since departure for tickets issued at Stage Navalur \n",
    "plt.scatter(x=df_stages_tickets_Navalur['Time_since_departure_minutes'],y=df_stages_tickets_Navalur['Time_since_departure_minutes'],c='g')\n",
    "plt.xlabel('Navalur')\n",
    "plt.show()"
   ]
  },
  {
   "cell_type": "raw",
   "metadata": {},
   "source": [
    "Using MeanShift assuming number of clusters is not known"
   ]
  },
  {
   "cell_type": "code",
   "execution_count": 77,
   "metadata": {},
   "outputs": [],
   "source": [
    "x = np.array(df_stages_tickets_Navalur['Time_since_departure_minutes'])\n",
    "#x = x*60\n",
    "b = zip(x,np.zeros(len(x)))\n",
    "c = list(zip(x,np.zeros(len(x))))\n",
    "d = np.array(c)"
   ]
  },
  {
   "cell_type": "code",
   "execution_count": 78,
   "metadata": {},
   "outputs": [],
   "source": [
    "from sklearn.cluster import MeanShift, estimate_bandwidth\n",
    "bandwidth = estimate_bandwidth(d, quantile=0.5)"
   ]
  },
  {
   "cell_type": "code",
   "execution_count": 79,
   "metadata": {},
   "outputs": [
    {
     "data": {
      "text/plain": [
       "0.39285714285714424"
      ]
     },
     "execution_count": 79,
     "metadata": {},
     "output_type": "execute_result"
    }
   ],
   "source": [
    "bandwidth"
   ]
  },
  {
   "cell_type": "code",
   "execution_count": 80,
   "metadata": {},
   "outputs": [],
   "source": [
    "ms = MeanShift(bandwidth=bandwidth,bin_seeding=True)"
   ]
  },
  {
   "cell_type": "code",
   "execution_count": 81,
   "metadata": {},
   "outputs": [
    {
     "data": {
      "text/plain": [
       "MeanShift(bandwidth=0.39285714285714424, bin_seeding=True, cluster_all=True,\n",
       "     min_bin_freq=1, n_jobs=None, seeds=None)"
      ]
     },
     "execution_count": 81,
     "metadata": {},
     "output_type": "execute_result"
    }
   ],
   "source": [
    "ms"
   ]
  },
  {
   "cell_type": "code",
   "execution_count": 82,
   "metadata": {},
   "outputs": [],
   "source": [
    "ms.fit(d)\n",
    "labels = ms.labels_"
   ]
  },
  {
   "cell_type": "code",
   "execution_count": 83,
   "metadata": {},
   "outputs": [
    {
     "data": {
      "text/plain": [
       "array([2, 1, 1, 1, 0, 0, 0], dtype=int64)"
      ]
     },
     "execution_count": 83,
     "metadata": {},
     "output_type": "execute_result"
    }
   ],
   "source": [
    "labels"
   ]
  },
  {
   "cell_type": "code",
   "execution_count": 84,
   "metadata": {},
   "outputs": [],
   "source": [
    "cluster_centers = ms.cluster_centers_"
   ]
  },
  {
   "cell_type": "code",
   "execution_count": 85,
   "metadata": {},
   "outputs": [
    {
     "data": {
      "text/plain": [
       "array([[15.66111111,  0.        ],\n",
       "       [14.73888889,  0.        ],\n",
       "       [14.21666667,  0.        ]])"
      ]
     },
     "execution_count": 85,
     "metadata": {},
     "output_type": "execute_result"
    }
   ],
   "source": [
    "cluster_centers"
   ]
  },
  {
   "cell_type": "code",
   "execution_count": 86,
   "metadata": {},
   "outputs": [],
   "source": [
    "labels_unique = np.unique(labels)\n",
    "n_clusters = len(labels_unique)"
   ]
  },
  {
   "cell_type": "code",
   "execution_count": 87,
   "metadata": {},
   "outputs": [
    {
     "name": "stdout",
     "output_type": "stream",
     "text": [
      "Cluster 0: [15.51666667 15.7        15.76666667]\n",
      "Cluster 1: [14.48333333 14.81666667 14.91666667]\n",
      "Cluster 2: [13.95]\n"
     ]
    }
   ],
   "source": [
    "for k in range(n_clusters):\n",
    "    my_members = labels==k\n",
    "    print (\"Cluster {0}: {1}\".format(k, d[my_members, 0]))"
   ]
  }
 ],
 "metadata": {
  "kernelspec": {
   "display_name": "Python 3",
   "language": "python",
   "name": "python3"
  },
  "language_info": {
   "codemirror_mode": {
    "name": "ipython",
    "version": 3
   },
   "file_extension": ".py",
   "mimetype": "text/x-python",
   "name": "python",
   "nbconvert_exporter": "python",
   "pygments_lexer": "ipython3",
   "version": "3.7.0"
  }
 },
 "nbformat": 4,
 "nbformat_minor": 2
}
